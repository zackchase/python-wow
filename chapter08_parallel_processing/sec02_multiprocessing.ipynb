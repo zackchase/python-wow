{
 "cells": [
  {
   "cell_type": "markdown",
   "metadata": {},
   "source": [
    "As computing hardware manufacturers add more cores to computer processors and multi-core processors becoming the norm even with personal computers and laptops, creating parallelizable code becomes very important. Python introduced the `multiprocessing` module to let us write parallel processing code to leverage the capabilities of multi-core CPUs.\n",
    "\n",
    "**Note** - Improvement due to parallel processing is mostly noticable only if the tasks at hand are cpu-bound where the majority of the time is spent in the CPU in contrast to I/O bound tasks, where most of the time is spent reading and writing data from the disk."
   ]
  },
  {
   "cell_type": "markdown",
   "metadata": {},
   "source": [
    "##### Multithreading vs Multiprocessing\n",
    "With multithreading, jobs are submitted to different threads, and it will behave more like subtasks of a single process. The different threads run in the same shared memory space, so care needs to be taken so that different threads do not write in the same memory location. In Python multithreading is not true parallelization, since it does not bypass the Global Interpreter Lock and the parallelization is achieved using a time slicing mechanism. So the multiple threads will run on a single core of the processor.\n",
    "\n",
    "With multiprocessing, each process has its own separate memory, so memory management is easier. But inter-process communication will be costlier because every object that is passed between processes needs to be pickled and unpickled. Also spawning a new process can be costlier than spawning a new thread. Both these overheads need to be taken into account while contemplating multiprocessing vs multithreading. Unlike multithreading, in multiprocessing the different processes runs on different cores of the processor, so it effectively bypasses Python's Global Interpreter Lock, hence achieving true parallelization. So if you want to max out the resources in a multi-core machine then using the `multiprocessing` module is the way to go.\n",
    "\n",
    "We will try to compare and benchmark multithreading and multiprocessing in different scenarios with a few practise probelms in the next notebook."
   ]
  },
  {
   "cell_type": "markdown",
   "metadata": {},
   "source": [
    "#### Important classes within the multiprocessing module - **Process, Queue, Pool and Lock**"
   ]
  },
  {
   "cell_type": "code",
   "execution_count": 2,
   "metadata": {},
   "outputs": [],
   "source": [
    "import os\n",
    "import sys\n",
    "import time\n",
    "import multiprocessing"
   ]
  },
  {
   "cell_type": "markdown",
   "metadata": {},
   "source": [
    "###### Find out the number of cpu cores in your system"
   ]
  },
  {
   "cell_type": "code",
   "execution_count": 2,
   "metadata": {},
   "outputs": [
    {
     "name": "stdout",
     "output_type": "stream",
     "text": [
      "Number of cores =  4\n"
     ]
    }
   ],
   "source": [
    "print(\"Number of cores = \", multiprocessing.cpu_count())"
   ]
  },
  {
   "cell_type": "markdown",
   "metadata": {},
   "source": [
    "##### Process\n",
    "Process is a class that allows the parent process to start a new process, allows it to run code but have the parent process control its execution.\n",
    "\n",
    "It has two main functions `start()` and `join()`. A Process object is instantiated by passing it a target function which the process will execute, in the example below the target function is `print_work()`. The process will only start executing when `start()` function is called. After completion the Process will return the result and remain idle. It only terminates by the use of the `join()` function."
   ]
  },
  {
   "cell_type": "code",
   "execution_count": 6,
   "metadata": {},
   "outputs": [
    {
     "name": "stdout",
     "output_type": "stream",
     "text": [
      "I am worker number 0 and my process id is 55367\n",
      "I am worker number 1 and my process id is 55368\n",
      "I am worker number 2 and my process id is 55369\n",
      "I am worker number 3 and my process id is 55370\n",
      "I am worker number 4 and my process id is 55371\n",
      "All workers have finished working\n"
     ]
    }
   ],
   "source": [
    "def print_work(num):\n",
    "    print(\"I am worker number {} and my process id is {}\".format(num, os.getpid()))\n",
    "\n",
    "workers = [multiprocessing.Process(target=print_work, args=(i,)) for i in range(5)]\n",
    "for w in workers:\n",
    "    w.start()\n",
    "\n",
    "for w in workers:\n",
    "    w.join()\n",
    "\n",
    "print(\"All workers have finished working\")"
   ]
  },
  {
   "cell_type": "markdown",
   "metadata": {},
   "source": [
    "Worker processes, instead of target functions can also accept target class to perform their task."
   ]
  },
  {
   "cell_type": "code",
   "execution_count": 19,
   "metadata": {},
   "outputs": [
    {
     "name": "stdout",
     "output_type": "stream",
     "text": [
      "I am a process with id number 56067\n",
      "I am a process with id number 56068\n",
      "I am a process with id number 56069\n",
      "I am a process with id number 56070\n",
      "I am a process with id number 56071\n",
      "All workers have finished working\n"
     ]
    }
   ],
   "source": [
    "class Worker(multiprocessing.Process):\n",
    "    def run(self):\n",
    "        print(\"I am a process with id number {}\".format(os.getpid()))\n",
    "        return\n",
    "\n",
    "workers = [Worker() for i in range(5)]\n",
    "for w in workers:\n",
    "    w.start()\n",
    "\n",
    "for w in workers:\n",
    "    w.join()\n",
    "\n",
    "print(\"All workers have finished working\")"
   ]
  },
  {
   "cell_type": "markdown",
   "metadata": {},
   "source": [
    "##### Queue\n",
    "Like conventional queues, the Queue class is a first-in-first-out data structure provided by the multiprocessing module. They can store any object that can be pickled, and are used for inter-process communication. The Queue data structure provided by the multiprocessing module is thread-safe."
   ]
  },
  {
   "cell_type": "code",
   "execution_count": 6,
   "metadata": {},
   "outputs": [
    {
     "name": "stdout",
     "output_type": "stream",
     "text": [
      "All workers have finished working\n",
      "Worker with process id 1022 says 222377 is False prime\n",
      "Worker with process id 1023 says 3334 is False prime\n",
      "Worker with process id 1024 says 2212 is False prime\n",
      "Worker with process id 1025 says 3345 is False prime\n",
      "Worker with process id 1026 says 23441 is False prime\n",
      "Worker with process id 1023 says 341737 is False prime\n",
      "Worker with process id 1024 says 565633 is False prime\n",
      "Worker with process id 1022 says 454577 is True prime\n",
      "Total time taken:  0.2512199878692627\n"
     ]
    }
   ],
   "source": [
    "# Take a list of numbers and determine if they are prime or not.\n",
    "\n",
    "# the function that each worker will run\n",
    "def check_prime(qin, qout):\n",
    "    while True:\n",
    "        if qin.empty():\n",
    "            break\n",
    "        num = qin.get()\n",
    "        time.sleep(0.1)\n",
    "        is_prime = True\n",
    "        for i in range(2,num):\n",
    "            if num % i == 0:\n",
    "                is_prime=False\n",
    "                break\n",
    "        qout.put((os.getpid(), num, is_prime))\n",
    "\n",
    "tic = time.time()\n",
    "# the input list of numbers and add it to an input queue\n",
    "numbers = [222377,3334,2212,3345,23441,454577,341737,565633]\n",
    "in_qu = multiprocessing.Queue()\n",
    "for n in numbers:\n",
    "    in_qu.put(n)\n",
    "    \n",
    "# the output queue into which each worker will put the output\n",
    "out_qu = multiprocessing.Queue()\n",
    "\n",
    "# use 5 workers to work on the list of numbers\n",
    "workers = [multiprocessing.Process(target=check_prime, args=(in_qu, out_qu)) for i in range(5)]\n",
    "for w in workers:\n",
    "    w.start()\n",
    "\n",
    "for w in workers:\n",
    "    w.join()\n",
    "\n",
    "print(\"All workers have finished working\")\n",
    "while not out_qu.empty():\n",
    "    res = out_qu.get()\n",
    "    print(\"Worker with process id {} says {} is {} prime\".format(res[0], res[1], res[2]))\n",
    "toc = time.time()\n",
    "print(\"Total time taken: \", toc-tic)"
   ]
  },
  {
   "cell_type": "markdown",
   "metadata": {},
   "source": [
    "##### Pool\n",
    "Pool class represents a pool of worker processes. This abstraction allows tasks and work to be offloaded  on to the pool of workers. "
   ]
  },
  {
   "cell_type": "code",
   "execution_count": 8,
   "metadata": {},
   "outputs": [
    {
     "name": "stdout",
     "output_type": "stream",
     "text": [
      "Process 2833 says that 3334 is False prime\n",
      "Process 2832 says that 222377 is False prime\n",
      "Process 2835 says that 3345 is False prime\n",
      "Process 2836 says that 23441 is False prime\n",
      "Process 2834 says that 2212 is False prime\n",
      "Process 2835 says that 341737 is False prime\n",
      "Process 2832 says that 565633 is False prime\n",
      "Process 2833 says that 454577 is True prime\n",
      "All workers have finished working\n",
      "Total time taken:  0.3429441452026367\n"
     ]
    }
   ],
   "source": [
    "# We will accomplish the same task as checking for prime numbers but use worker pool to do it\n",
    "# the function that each worker will run\n",
    "def check_prime(num):\n",
    "    time.sleep(0.1)\n",
    "    is_prime = True\n",
    "    for i in range(2,num):\n",
    "        if num % i == 0:\n",
    "            is_prime=False\n",
    "            break\n",
    "    print(\"Process {} says that {} is {} prime\".format(os.getpid(), num, is_prime))\n",
    "\n",
    "tic = time.time()\n",
    "# the input list of numbers and add it to an input queue\n",
    "numbers = [222377,3334,2212,3345,23441,454577,341737,565633]\n",
    "\n",
    "# use 5 workers to work on the list of numbers\n",
    "worker_pool = multiprocessing.Pool(5)\n",
    "worker_pool.map(check_prime, numbers)\n",
    "\n",
    "worker_pool.close()\n",
    "worker_pool.join()\n",
    "\n",
    "print(\"All workers have finished working\")\n",
    "toc = time.time()\n",
    "print(\"Total time taken: \", toc-tic)"
   ]
  },
  {
   "cell_type": "markdown",
   "metadata": {},
   "source": [
    "Other related functions in the Pool class is -\n",
    " - `imap`\n",
    " - `imap_unordered`\n",
    " - `starmap`\n",
    " - `starmap_async`\n",
    " - `map_async`\n",
    " - `apply_async`\n",
    " \n",
    "<...>"
   ]
  },
  {
   "cell_type": "markdown",
   "metadata": {},
   "source": [
    "##### Lock\n",
    "<...>"
   ]
  },
  {
   "cell_type": "code",
   "execution_count": null,
   "metadata": {},
   "outputs": [],
   "source": []
  }
 ],
 "metadata": {
  "kernelspec": {
   "display_name": "Python 3",
   "language": "python",
   "name": "python3"
  },
  "language_info": {
   "codemirror_mode": {
    "name": "ipython",
    "version": 3
   },
   "file_extension": ".py",
   "mimetype": "text/x-python",
   "name": "python",
   "nbconvert_exporter": "python",
   "pygments_lexer": "ipython3",
   "version": "3.6.6"
  }
 },
 "nbformat": 4,
 "nbformat_minor": 2
}
